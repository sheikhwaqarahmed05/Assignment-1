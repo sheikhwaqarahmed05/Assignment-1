{
 "cells": [
  {
   "cell_type": "code",
   "execution_count": 1,
   "id": "97bdee88-11ce-4c5d-9f44-9510257bddfa",
   "metadata": {},
   "outputs": [],
   "source": [
    "salaries = ['20k', '40k', '50k', '60k', '35k', '89k', '40k']"
   ]
  },
  {
   "cell_type": "code",
   "execution_count": 3,
   "id": "6f92e6cc-68d2-4557-b3d7-f20591c33678",
   "metadata": {},
   "outputs": [
    {
     "data": {
      "text/plain": [
       "['20k', '40k', '50k', '60k', '35k', '89k', '40k']"
      ]
     },
     "execution_count": 3,
     "metadata": {},
     "output_type": "execute_result"
    }
   ],
   "source": [
    "salaries"
   ]
  },
  {
   "cell_type": "code",
   "execution_count": 5,
   "id": "98e7f172-9acb-48f0-9187-8ea7f8e0d989",
   "metadata": {},
   "outputs": [
    {
     "data": {
      "text/plain": [
       "7"
      ]
     },
     "execution_count": 5,
     "metadata": {},
     "output_type": "execute_result"
    }
   ],
   "source": [
    "len(salaries)"
   ]
  },
  {
   "cell_type": "code",
   "execution_count": 7,
   "id": "222c97c3-a995-4825-9047-05f3d3ce0994",
   "metadata": {},
   "outputs": [
    {
     "data": {
      "text/plain": [
       "'50k'"
      ]
     },
     "execution_count": 7,
     "metadata": {},
     "output_type": "execute_result"
    }
   ],
   "source": [
    "salaries[2]"
   ]
  },
  {
   "cell_type": "code",
   "execution_count": 9,
   "id": "6668f5c7-a6ea-43af-8c1a-0b3722bdd529",
   "metadata": {},
   "outputs": [
    {
     "data": {
      "text/plain": [
       "'40k'"
      ]
     },
     "execution_count": 9,
     "metadata": {},
     "output_type": "execute_result"
    }
   ],
   "source": [
    "salaries[-1]"
   ]
  },
  {
   "cell_type": "code",
   "execution_count": 11,
   "id": "d4faf7c4-e42c-4f46-9697-295a0d34aa4f",
   "metadata": {},
   "outputs": [
    {
     "data": {
      "text/plain": [
       "['50k', '60k', '35k']"
      ]
     },
     "execution_count": 11,
     "metadata": {},
     "output_type": "execute_result"
    }
   ],
   "source": [
    "salaries[2:5]"
   ]
  },
  {
   "cell_type": "code",
   "execution_count": 13,
   "id": "41798688-d900-445b-aa56-735c06cb9721",
   "metadata": {},
   "outputs": [],
   "source": [
    "salaries.append('100K')"
   ]
  },
  {
   "cell_type": "code",
   "execution_count": 15,
   "id": "e7723b67-639d-483e-b471-c793a52ced0d",
   "metadata": {},
   "outputs": [
    {
     "data": {
      "text/plain": [
       "['20k', '40k', '50k', '60k', '35k', '89k', '40k', '100K']"
      ]
     },
     "execution_count": 15,
     "metadata": {},
     "output_type": "execute_result"
    }
   ],
   "source": [
    "salaries"
   ]
  },
  {
   "cell_type": "code",
   "execution_count": 17,
   "id": "98e20254-d1c6-47bd-b5c8-c85585c268c7",
   "metadata": {},
   "outputs": [],
   "source": [
    "salaries += ['120k']"
   ]
  },
  {
   "cell_type": "code",
   "execution_count": 19,
   "id": "ddcb46f7-94fa-4acb-9b6b-0e8fec0593e1",
   "metadata": {},
   "outputs": [
    {
     "data": {
      "text/plain": [
       "['20k', '40k', '50k', '60k', '35k', '89k', '40k', '100K', '120k']"
      ]
     },
     "execution_count": 19,
     "metadata": {},
     "output_type": "execute_result"
    }
   ],
   "source": [
    "salaries"
   ]
  },
  {
   "cell_type": "code",
   "execution_count": 21,
   "id": "5d47830e-739c-4557-a2c8-d3c15b53b857",
   "metadata": {},
   "outputs": [],
   "source": [
    "salaries[2] = '55k'"
   ]
  },
  {
   "cell_type": "code",
   "execution_count": 23,
   "id": "e9922ea7-de34-4fea-81b8-a235f33e8a88",
   "metadata": {},
   "outputs": [
    {
     "data": {
      "text/plain": [
       "['20k', '40k', '55k', '60k', '35k', '89k', '40k', '100K', '120k']"
      ]
     },
     "execution_count": 23,
     "metadata": {},
     "output_type": "execute_result"
    }
   ],
   "source": [
    "salaries"
   ]
  },
  {
   "cell_type": "code",
   "execution_count": 25,
   "id": "32566863-de6b-4c72-9969-36cc26cd82df",
   "metadata": {},
   "outputs": [],
   "source": [
    "count_40k = salaries.count('40k')"
   ]
  },
  {
   "cell_type": "code",
   "execution_count": 27,
   "id": "557db3e4-598e-4b75-987b-95141b60b69f",
   "metadata": {},
   "outputs": [
    {
     "data": {
      "text/plain": [
       "['20k', '40k', '55k', '60k', '35k', '89k', '40k', '100K', '120k']"
      ]
     },
     "execution_count": 27,
     "metadata": {},
     "output_type": "execute_result"
    }
   ],
   "source": [
    "salaries"
   ]
  },
  {
   "cell_type": "code",
   "execution_count": 29,
   "id": "c81e5243-efce-4f5e-a6af-8dbc9784661e",
   "metadata": {},
   "outputs": [
    {
     "data": {
      "text/plain": [
       "2"
      ]
     },
     "execution_count": 29,
     "metadata": {},
     "output_type": "execute_result"
    }
   ],
   "source": [
    "count_40k"
   ]
  },
  {
   "cell_type": "code",
   "execution_count": 31,
   "id": "2a5a4280-e9e9-4f82-87ea-50cd144e1fe3",
   "metadata": {},
   "outputs": [],
   "source": [
    "salaries.insert(1, '70k')"
   ]
  },
  {
   "cell_type": "code",
   "execution_count": 33,
   "id": "b6f75a03-3e75-45b9-a653-68d240c93928",
   "metadata": {},
   "outputs": [
    {
     "data": {
      "text/plain": [
       "['20k', '70k', '40k', '55k', '60k', '35k', '89k', '40k', '100K', '120k']"
      ]
     },
     "execution_count": 33,
     "metadata": {},
     "output_type": "execute_result"
    }
   ],
   "source": [
    "salaries"
   ]
  },
  {
   "cell_type": "code",
   "execution_count": 35,
   "id": "e09a436a-2ab1-45e6-942f-7a25abb874ee",
   "metadata": {},
   "outputs": [],
   "source": [
    "salaries.reverse()"
   ]
  },
  {
   "cell_type": "code",
   "execution_count": 37,
   "id": "6c71692e-80d9-4867-9aab-843f794c16ba",
   "metadata": {},
   "outputs": [
    {
     "data": {
      "text/plain": [
       "['120k', '100K', '40k', '89k', '35k', '60k', '55k', '40k', '70k', '20k']"
      ]
     },
     "execution_count": 37,
     "metadata": {},
     "output_type": "execute_result"
    }
   ],
   "source": [
    "salaries"
   ]
  },
  {
   "cell_type": "code",
   "execution_count": 39,
   "id": "5936371a-a68d-4e06-a309-789f76f73764",
   "metadata": {},
   "outputs": [],
   "source": [
    "salaries = salaries[::-1]"
   ]
  },
  {
   "cell_type": "code",
   "execution_count": 41,
   "id": "ef8c917d-f4f5-406a-a654-50e01eb44884",
   "metadata": {},
   "outputs": [
    {
     "data": {
      "text/plain": [
       "['20k', '70k', '40k', '55k', '60k', '35k', '89k', '40k', '100K', '120k']"
      ]
     },
     "execution_count": 41,
     "metadata": {},
     "output_type": "execute_result"
    }
   ],
   "source": [
    "salaries"
   ]
  },
  {
   "cell_type": "code",
   "execution_count": null,
   "id": "57aa295b-77d7-483d-87b1-2ad2dc86ec04",
   "metadata": {},
   "outputs": [],
   "source": []
  }
 ],
 "metadata": {
  "kernelspec": {
   "display_name": "Python 3 (ipykernel)",
   "language": "python",
   "name": "python3"
  },
  "language_info": {
   "codemirror_mode": {
    "name": "ipython",
    "version": 3
   },
   "file_extension": ".py",
   "mimetype": "text/x-python",
   "name": "python",
   "nbconvert_exporter": "python",
   "pygments_lexer": "ipython3",
   "version": "3.12.7"
  }
 },
 "nbformat": 4,
 "nbformat_minor": 5
}
